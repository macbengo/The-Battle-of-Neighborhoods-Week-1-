{
    "cells": [
        {
            "cell_type": "markdown",
            "metadata": {
                "collapsed": true
            },
            "source": "#### Introduction"
        },
        {
            "cell_type": "markdown",
            "metadata": {},
            "source": "We are looking at opening a restaurant but where could we open it? Hence, we explore the different restaurants distribution in two different cities, New York City and Toronto."
        },
        {
            "cell_type": "markdown",
            "metadata": {},
            "source": "#### Business Problem"
        },
        {
            "cell_type": "markdown",
            "metadata": {},
            "source": "We will need locality information in New York City and Toronto in order to explore opening of a restaurant. We have to ensure good human traffic and there is not many competitors around the area. Hence, we need to analyse different scenarios to increase the success of the restaurants, and to avoid similar restaurants in the same area. The area we should look at are:\n\n- different district school information\n- restaurant information\n\nFor this project, we are mainly focused on the areas in these two cities to set up a restaurant and ensure maximum profitability for new business."
        },
        {
            "cell_type": "markdown",
            "metadata": {},
            "source": "#### Data"
        },
        {
            "cell_type": "markdown",
            "metadata": {},
            "source": "To choose the restaurant, we will need to access following data:\n\n- Neighbourhoods in New York And Toronto\n\nFrom the table above, we will use the data to build our analysis.\nWe will use FourSquare APIs for the coordinates data(latitude, longitude) in New York City and Toronto. \n\nFrom FourSquare, we will need following venues data:\n\n- the school information\n- different restaurant information \n\nThese data will be used to analysed to determine which location is the best suited to set up the restaurant."
        },
        {
            "cell_type": "code",
            "execution_count": null,
            "metadata": {},
            "outputs": [],
            "source": ""
        }
    ],
    "metadata": {
        "kernelspec": {
            "display_name": "Python 3.7",
            "language": "python",
            "name": "python3"
        },
        "language_info": {
            "codemirror_mode": {
                "name": "ipython",
                "version": 3
            },
            "file_extension": ".py",
            "mimetype": "text/x-python",
            "name": "python",
            "nbconvert_exporter": "python",
            "pygments_lexer": "ipython3",
            "version": "3.7.9"
        }
    },
    "nbformat": 4,
    "nbformat_minor": 1
}